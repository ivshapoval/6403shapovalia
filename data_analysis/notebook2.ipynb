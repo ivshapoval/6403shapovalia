{
 "cells": [
  {
   "cell_type": "code",
   "execution_count": 1,
   "metadata": {},
   "outputs": [],
   "source": [
    "from data_fetcher import WeatherData\n",
    "from realtime_service import DataMonitor\n",
    "from meteostat import Point, Daily\n",
    "from datetime import datetime\n",
    "import pandas as pd\n",
    "import logging\n",
    "import logging.config\n",
    "import json"
   ]
  },
  {
   "cell_type": "code",
   "execution_count": 2,
   "metadata": {},
   "outputs": [],
   "source": [
    "config = None\n",
    "with open('configs/logger_config.json', 'r') as file:\n",
    "    config = json.load(file)\n",
    "logging.config.dictConfig(config)"
   ]
  },
  {
   "cell_type": "code",
   "execution_count": 3,
   "metadata": {},
   "outputs": [
    {
     "name": "stderr",
     "output_type": "stream",
     "text": [
      "2024-11-29 14:53:06,979 MainProcess data_fetcher.data_fetcher INFO     Weather data successfully fetched\n"
     ]
    },
    {
     "data": {
      "text/html": [
       "<div>\n",
       "<style scoped>\n",
       "    .dataframe tbody tr th:only-of-type {\n",
       "        vertical-align: middle;\n",
       "    }\n",
       "\n",
       "    .dataframe tbody tr th {\n",
       "        vertical-align: top;\n",
       "    }\n",
       "\n",
       "    .dataframe thead th {\n",
       "        text-align: right;\n",
       "    }\n",
       "</style>\n",
       "<table border=\"1\" class=\"dataframe\">\n",
       "  <thead>\n",
       "    <tr style=\"text-align: right;\">\n",
       "      <th></th>\n",
       "      <th>tavg</th>\n",
       "    </tr>\n",
       "    <tr>\n",
       "      <th>time</th>\n",
       "      <th></th>\n",
       "    </tr>\n",
       "  </thead>\n",
       "  <tbody>\n",
       "    <tr>\n",
       "      <th>2020-01-01</th>\n",
       "      <td>-2.5</td>\n",
       "    </tr>\n",
       "    <tr>\n",
       "      <th>2020-01-02</th>\n",
       "      <td>-5.6</td>\n",
       "    </tr>\n",
       "    <tr>\n",
       "      <th>2020-01-03</th>\n",
       "      <td>-6.1</td>\n",
       "    </tr>\n",
       "    <tr>\n",
       "      <th>2020-01-04</th>\n",
       "      <td>-2.0</td>\n",
       "    </tr>\n",
       "    <tr>\n",
       "      <th>2020-01-05</th>\n",
       "      <td>-0.3</td>\n",
       "    </tr>\n",
       "    <tr>\n",
       "      <th>...</th>\n",
       "      <td>...</td>\n",
       "    </tr>\n",
       "    <tr>\n",
       "      <th>2024-11-03</th>\n",
       "      <td>-1.0</td>\n",
       "    </tr>\n",
       "    <tr>\n",
       "      <th>2024-11-04</th>\n",
       "      <td>-1.1</td>\n",
       "    </tr>\n",
       "    <tr>\n",
       "      <th>2024-11-05</th>\n",
       "      <td>-2.2</td>\n",
       "    </tr>\n",
       "    <tr>\n",
       "      <th>2024-11-06</th>\n",
       "      <td>-4.1</td>\n",
       "    </tr>\n",
       "    <tr>\n",
       "      <th>2024-11-07</th>\n",
       "      <td>-2.5</td>\n",
       "    </tr>\n",
       "  </tbody>\n",
       "</table>\n",
       "<p>1773 rows × 1 columns</p>\n",
       "</div>"
      ],
      "text/plain": [
       "            tavg\n",
       "time            \n",
       "2020-01-01  -2.5\n",
       "2020-01-02  -5.6\n",
       "2020-01-03  -6.1\n",
       "2020-01-04  -2.0\n",
       "2020-01-05  -0.3\n",
       "...          ...\n",
       "2024-11-03  -1.0\n",
       "2024-11-04  -1.1\n",
       "2024-11-05  -2.2\n",
       "2024-11-06  -4.1\n",
       "2024-11-07  -2.5\n",
       "\n",
       "[1773 rows x 1 columns]"
      ]
     },
     "execution_count": 3,
     "metadata": {},
     "output_type": "execute_result"
    }
   ],
   "source": [
    "# Получение данных через meteostat\n",
    "\n",
    "start = datetime(2020, 1, 1)\n",
    "end = datetime(2024, 11, 7)\n",
    "\n",
    "# Точка для измерения погоды - Самара\n",
    "samara = Point(53.2001, 50.15, 116)\n",
    "\n",
    "# Получение данных о погоде в Самаре\n",
    "data = Daily(samara, start, end)\n",
    "data = data.fetch()\n",
    "\n",
    "fetcher = WeatherData(samara, start, end)\n",
    "weather_data = fetcher.get_weather_data()\n",
    "\n",
    "weather_data"
   ]
  },
  {
   "cell_type": "code",
   "execution_count": 4,
   "metadata": {},
   "outputs": [
    {
     "name": "stderr",
     "output_type": "stream",
     "text": [
      "2024-11-29 14:53:07,005 MainProcess realtime_service.monitoring_service INFO     Monitoring started\n"
     ]
    }
   ],
   "source": [
    "monitor1 = DataMonitor(samara, start, end, interval=20)\n",
    "\n",
    "# Запуск первого монитора\n",
    "monitor1.start()"
   ]
  },
  {
   "cell_type": "code",
   "execution_count": 5,
   "metadata": {},
   "outputs": [
    {
     "name": "stderr",
     "output_type": "stream",
     "text": [
      "2024-11-29 14:53:07,068 MainProcess realtime_service.monitoring_service INFO     Monitoring started\n"
     ]
    }
   ],
   "source": [
    "monitor2 = DataMonitor(samara, start, end, interval=10)\n",
    "\n",
    "# Запуск второго монитора\n",
    "monitor2.start()"
   ]
  },
  {
   "cell_type": "code",
   "execution_count": 6,
   "metadata": {},
   "outputs": [
    {
     "name": "stderr",
     "output_type": "stream",
     "text": [
      "2024-11-29 14:53:07,174 MainProcess data_fetcher.data_fetcher INFO     Weather data successfully fetched\n",
      "2024-11-29 14:53:07,181 MainProcess timerow.module.functions INFO     Анализ временного ряда\n",
      "2024-11-29 14:53:07,183 MainProcess timerow.module.functions INFO     Вычисление скользящего среднего\n",
      "2024-11-29 14:53:07,239 MainProcess timerow.module.functions INFO     Вычисление дифференциала\n",
      "2024-11-29 14:53:07,245 MainProcess timerow.module.functions INFO     Вычисление автокорреляции\n",
      "2024-11-29 14:53:07,267 MainProcess data_fetcher.data_fetcher INFO     Weather data successfully fetched\n",
      "2024-11-29 14:53:07,270 MainProcess timerow.module.functions INFO     Анализ временного ряда\n",
      "2024-11-29 14:53:07,271 MainProcess timerow.module.functions INFO     Вычисление скользящего среднего\n",
      "2024-11-29 14:53:07,272 MainProcess timerow.module.functions INFO     Вычисление дифференциала\n",
      "2024-11-29 14:53:07,274 MainProcess timerow.module.functions INFO     Вычисление автокорреляции\n"
     ]
    },
    {
     "name": "stdout",
     "output_type": "stream",
     "text": [
      "Current data of weather:             tavg\n",
      "time            \n",
      "2020-01-01  -2.5\n",
      "2020-01-02  -5.6\n",
      "2020-01-03  -6.1\n",
      "2020-01-04  -2.0\n",
      "2020-01-05  -0.3\n",
      "...          ...\n",
      "2024-11-03  -1.0\n",
      "2024-11-04  -1.1\n",
      "2024-11-05  -2.2\n",
      "2024-11-06  -4.1\n",
      "2024-11-07  -2.5\n",
      "\n",
      "[1773 rows x 1 columns]\n",
      "Current data of weather:             tavg\n",
      "time            \n",
      "2020-01-01  -2.5\n",
      "2020-01-02  -5.6\n",
      "2020-01-03  -6.1\n",
      "2020-01-04  -2.0\n",
      "2020-01-05  -0.3\n",
      "...          ...\n",
      "2024-11-03  -1.0\n",
      "2024-11-04  -1.1\n",
      "2024-11-05  -2.2\n",
      "2024-11-06  -4.1\n",
      "2024-11-07  -2.5\n",
      "\n",
      "[1773 rows x 1 columns]\n"
     ]
    },
    {
     "name": "stderr",
     "output_type": "stream",
     "text": [
      "RuntimeWarning: Degrees of freedom <= 0 for slice\n",
      "RuntimeWarning: divide by zero encountered in divide\n",
      "RuntimeWarning: invalid value encountered in multiply\n",
      "2024-11-29 14:53:08,002 MainProcess timerow.module.functions INFO     Вычисление максимума и минимума\n",
      "RuntimeWarning: Degrees of freedom <= 0 for slice\n",
      "RuntimeWarning: divide by zero encountered in divide\n",
      "RuntimeWarning: invalid value encountered in multiply\n",
      "2024-11-29 14:53:08,029 MainProcess timerow.module.functions INFO     Вычисление максимума и минимума\n",
      "2024-11-29 14:53:08,034 MainProcess realtime_service.monitoring_service INFO     Monitoring stopped\n",
      "2024-11-29 14:53:08,035 MainProcess realtime_service.monitoring_service INFO     Monitoring stopped\n"
     ]
    },
    {
     "name": "stdout",
     "output_type": "stream",
     "text": [
      "Глобальный максимум: 30.4, Глобальный минимум: -28.2\n",
      "            orig  moving_average_{window}      diff  autocorr\n",
      "time                                                         \n",
      "2020-01-01  -2.5                      NaN       NaN  1.000000\n",
      "2020-01-02  -5.6                      NaN       NaN  0.972317\n",
      "2020-01-03  -6.1                      NaN       NaN  0.938720\n",
      "2020-01-04  -2.0                      NaN       NaN  0.919092\n",
      "2020-01-05  -0.3                      NaN       NaN  0.910266\n",
      "...          ...                      ...       ...       ...\n",
      "2024-11-03  -1.0                 2.857143 -0.500000 -0.396443\n",
      "2024-11-04  -1.1                 2.342857 -0.514286  0.638971\n",
      "2024-11-05  -2.2                 1.457143 -0.885714  0.516226\n",
      "2024-11-06  -4.1                 0.300000 -1.157143 -1.000000\n",
      "2024-11-07  -2.5                -0.500000 -0.800000       NaN\n",
      "\n",
      "[1773 rows x 4 columns]\n",
      "Глобальный максимум: 30.4, Глобальный минимум: -28.2\n",
      "            orig  moving_average_{window}      diff  autocorr\n",
      "time                                                         \n",
      "2020-01-01  -2.5                      NaN       NaN  1.000000\n",
      "2020-01-02  -5.6                      NaN       NaN  0.972317\n",
      "2020-01-03  -6.1                      NaN       NaN  0.938720\n",
      "2020-01-04  -2.0                      NaN       NaN  0.919092\n",
      "2020-01-05  -0.3                      NaN       NaN  0.910266\n",
      "...          ...                      ...       ...       ...\n",
      "2024-11-03  -1.0                 2.857143 -0.500000 -0.396443\n",
      "2024-11-04  -1.1                 2.342857 -0.514286  0.638971\n",
      "2024-11-05  -2.2                 1.457143 -0.885714  0.516226\n",
      "2024-11-06  -4.1                 0.300000 -1.157143 -1.000000\n",
      "2024-11-07  -2.5                -0.500000 -0.800000       NaN\n",
      "\n",
      "[1773 rows x 4 columns]\n"
     ]
    }
   ],
   "source": [
    "# Остановка мониторов\n",
    "\n",
    "monitor1.stop()\n",
    "monitor2.stop()"
   ]
  },
  {
   "cell_type": "code",
   "execution_count": 7,
   "metadata": {},
   "outputs": [],
   "source": [
    "# Получение данных о погоде через Daily\n",
    "data = Daily(samara, start, end).fetch()\n",
    "\n",
    "# Получение данных о средней температуре из Daily\n",
    "temperature_data = data['tavg']"
   ]
  },
  {
   "cell_type": "code",
   "execution_count": 8,
   "metadata": {},
   "outputs": [
    {
     "name": "stderr",
     "output_type": "stream",
     "text": [
      "2024-11-29 14:53:08,162 MainProcess data_fetcher.data_fetcher INFO     Weather data successfully fetched\n"
     ]
    }
   ],
   "source": [
    "# Получение данных о погоде через Fetcher\n",
    "fetcher = WeatherData(samara, start, end)\n",
    "weather_data = fetcher.get_weather_data()"
   ]
  },
  {
   "cell_type": "code",
   "execution_count": 9,
   "metadata": {},
   "outputs": [
    {
     "data": {
      "text/html": [
       "<div>\n",
       "<style scoped>\n",
       "    .dataframe tbody tr th:only-of-type {\n",
       "        vertical-align: middle;\n",
       "    }\n",
       "\n",
       "    .dataframe tbody tr th {\n",
       "        vertical-align: top;\n",
       "    }\n",
       "\n",
       "    .dataframe thead th {\n",
       "        text-align: right;\n",
       "    }\n",
       "</style>\n",
       "<table border=\"1\" class=\"dataframe\">\n",
       "  <thead>\n",
       "    <tr style=\"text-align: right;\">\n",
       "      <th></th>\n",
       "      <th>tavg</th>\n",
       "      <th>tavg</th>\n",
       "    </tr>\n",
       "    <tr>\n",
       "      <th>time</th>\n",
       "      <th></th>\n",
       "      <th></th>\n",
       "    </tr>\n",
       "  </thead>\n",
       "  <tbody>\n",
       "    <tr>\n",
       "      <th>2020-01-01</th>\n",
       "      <td>-2.5</td>\n",
       "      <td>-2.5</td>\n",
       "    </tr>\n",
       "    <tr>\n",
       "      <th>2020-01-02</th>\n",
       "      <td>-5.6</td>\n",
       "      <td>-5.6</td>\n",
       "    </tr>\n",
       "    <tr>\n",
       "      <th>2020-01-03</th>\n",
       "      <td>-6.1</td>\n",
       "      <td>-6.1</td>\n",
       "    </tr>\n",
       "    <tr>\n",
       "      <th>2020-01-04</th>\n",
       "      <td>-2.0</td>\n",
       "      <td>-2.0</td>\n",
       "    </tr>\n",
       "    <tr>\n",
       "      <th>2020-01-05</th>\n",
       "      <td>-0.3</td>\n",
       "      <td>-0.3</td>\n",
       "    </tr>\n",
       "    <tr>\n",
       "      <th>...</th>\n",
       "      <td>...</td>\n",
       "      <td>...</td>\n",
       "    </tr>\n",
       "    <tr>\n",
       "      <th>2024-11-03</th>\n",
       "      <td>-1.0</td>\n",
       "      <td>-1.0</td>\n",
       "    </tr>\n",
       "    <tr>\n",
       "      <th>2024-11-04</th>\n",
       "      <td>-1.1</td>\n",
       "      <td>-1.1</td>\n",
       "    </tr>\n",
       "    <tr>\n",
       "      <th>2024-11-05</th>\n",
       "      <td>-2.2</td>\n",
       "      <td>-2.2</td>\n",
       "    </tr>\n",
       "    <tr>\n",
       "      <th>2024-11-06</th>\n",
       "      <td>-4.1</td>\n",
       "      <td>-4.1</td>\n",
       "    </tr>\n",
       "    <tr>\n",
       "      <th>2024-11-07</th>\n",
       "      <td>-2.5</td>\n",
       "      <td>-2.5</td>\n",
       "    </tr>\n",
       "  </tbody>\n",
       "</table>\n",
       "<p>1773 rows × 2 columns</p>\n",
       "</div>"
      ],
      "text/plain": [
       "            tavg  tavg\n",
       "time                  \n",
       "2020-01-01  -2.5  -2.5\n",
       "2020-01-02  -5.6  -5.6\n",
       "2020-01-03  -6.1  -6.1\n",
       "2020-01-04  -2.0  -2.0\n",
       "2020-01-05  -0.3  -0.3\n",
       "...          ...   ...\n",
       "2024-11-03  -1.0  -1.0\n",
       "2024-11-04  -1.1  -1.1\n",
       "2024-11-05  -2.2  -2.2\n",
       "2024-11-06  -4.1  -4.1\n",
       "2024-11-07  -2.5  -2.5\n",
       "\n",
       "[1773 rows x 2 columns]"
      ]
     },
     "execution_count": 9,
     "metadata": {},
     "output_type": "execute_result"
    }
   ],
   "source": [
    "# Сравнение данных\n",
    "combined_df = pd.concat([temperature_data, weather_data], axis=1)\n",
    "combined_df"
   ]
  }
 ],
 "metadata": {
  "kernelspec": {
   "display_name": ".venv",
   "language": "python",
   "name": "python3"
  },
  "language_info": {
   "codemirror_mode": {
    "name": "ipython",
    "version": 3
   },
   "file_extension": ".py",
   "mimetype": "text/x-python",
   "name": "python",
   "nbconvert_exporter": "python",
   "pygments_lexer": "ipython3",
   "version": "3.10.7"
  }
 },
 "nbformat": 4,
 "nbformat_minor": 2
}
